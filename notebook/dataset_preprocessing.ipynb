{
 "cells": [
  {
   "cell_type": "code",
   "execution_count": 35,
   "id": "initial_id",
   "metadata": {
    "collapsed": true,
    "ExecuteTime": {
     "end_time": "2023-12-05T15:51:13.706233Z",
     "start_time": "2023-12-05T15:51:13.701137Z"
    }
   },
   "outputs": [],
   "source": [
    "import pandas as pd\n",
    "import numpy as np\n",
    "from sklearn.preprocessing import StandardScaler\n",
    "from sklearn.ensemble import RandomForestClassifier\n",
    "from sklearn.model_selection import train_test_split\n",
    "from sklearn.metrics import accuracy_score, confusion_matrix, classification_report"
   ]
  },
  {
   "cell_type": "markdown",
   "source": [
    "# Dataset preprocessing"
   ],
   "metadata": {
    "collapsed": false
   },
   "id": "bc928e7210821c2e"
  },
  {
   "cell_type": "markdown",
   "source": [
    "## Read dataset and first analysis"
   ],
   "metadata": {
    "collapsed": false
   },
   "id": "64b7328a5a6ac5b"
  },
  {
   "cell_type": "code",
   "execution_count": 69,
   "outputs": [
    {
     "data": {
      "text/plain": "   gender   age  hypertension  heart_disease ever_married      work_type  \\\n0    Male  67.0             0              1          Yes        Private   \n1  Female  61.0             0              0          Yes  Self-employed   \n2    Male  80.0             0              1          Yes        Private   \n3  Female  49.0             0              0          Yes        Private   \n4  Female  79.0             1              0          Yes  Self-employed   \n\n  Residence_type  avg_glucose_level   bmi   smoking_status  stroke  \n0          Urban             228.69  36.6  formerly smoked       1  \n1          Rural             202.21   NaN     never smoked       1  \n2          Rural             105.92  32.5     never smoked       1  \n3          Urban             171.23  34.4           smokes       1  \n4          Rural             174.12  24.0     never smoked       1  ",
      "text/html": "<div>\n<style scoped>\n    .dataframe tbody tr th:only-of-type {\n        vertical-align: middle;\n    }\n\n    .dataframe tbody tr th {\n        vertical-align: top;\n    }\n\n    .dataframe thead th {\n        text-align: right;\n    }\n</style>\n<table border=\"1\" class=\"dataframe\">\n  <thead>\n    <tr style=\"text-align: right;\">\n      <th></th>\n      <th>gender</th>\n      <th>age</th>\n      <th>hypertension</th>\n      <th>heart_disease</th>\n      <th>ever_married</th>\n      <th>work_type</th>\n      <th>Residence_type</th>\n      <th>avg_glucose_level</th>\n      <th>bmi</th>\n      <th>smoking_status</th>\n      <th>stroke</th>\n    </tr>\n  </thead>\n  <tbody>\n    <tr>\n      <th>0</th>\n      <td>Male</td>\n      <td>67.0</td>\n      <td>0</td>\n      <td>1</td>\n      <td>Yes</td>\n      <td>Private</td>\n      <td>Urban</td>\n      <td>228.69</td>\n      <td>36.6</td>\n      <td>formerly smoked</td>\n      <td>1</td>\n    </tr>\n    <tr>\n      <th>1</th>\n      <td>Female</td>\n      <td>61.0</td>\n      <td>0</td>\n      <td>0</td>\n      <td>Yes</td>\n      <td>Self-employed</td>\n      <td>Rural</td>\n      <td>202.21</td>\n      <td>NaN</td>\n      <td>never smoked</td>\n      <td>1</td>\n    </tr>\n    <tr>\n      <th>2</th>\n      <td>Male</td>\n      <td>80.0</td>\n      <td>0</td>\n      <td>1</td>\n      <td>Yes</td>\n      <td>Private</td>\n      <td>Rural</td>\n      <td>105.92</td>\n      <td>32.5</td>\n      <td>never smoked</td>\n      <td>1</td>\n    </tr>\n    <tr>\n      <th>3</th>\n      <td>Female</td>\n      <td>49.0</td>\n      <td>0</td>\n      <td>0</td>\n      <td>Yes</td>\n      <td>Private</td>\n      <td>Urban</td>\n      <td>171.23</td>\n      <td>34.4</td>\n      <td>smokes</td>\n      <td>1</td>\n    </tr>\n    <tr>\n      <th>4</th>\n      <td>Female</td>\n      <td>79.0</td>\n      <td>1</td>\n      <td>0</td>\n      <td>Yes</td>\n      <td>Self-employed</td>\n      <td>Rural</td>\n      <td>174.12</td>\n      <td>24.0</td>\n      <td>never smoked</td>\n      <td>1</td>\n    </tr>\n  </tbody>\n</table>\n</div>"
     },
     "execution_count": 69,
     "metadata": {},
     "output_type": "execute_result"
    }
   ],
   "source": [
    "df = pd.read_csv('../resources/dataset/healthcare-dataset-stroke-data.csv')\n",
    "df = df.drop(columns=['id'])\n",
    "df.head()"
   ],
   "metadata": {
    "collapsed": false,
    "ExecuteTime": {
     "end_time": "2023-12-05T16:44:27.633695Z",
     "start_time": "2023-12-05T16:44:27.601721Z"
    }
   },
   "id": "e4fbc04e07255b0a"
  },
  {
   "cell_type": "code",
   "execution_count": 4,
   "outputs": [
    {
     "data": {
      "text/plain": "               age  hypertension  heart_disease  avg_glucose_level  \\\ncount  5110.000000   5110.000000    5110.000000        5110.000000   \nmean     43.226614      0.097456       0.054012         106.147677   \nstd      22.612647      0.296607       0.226063          45.283560   \nmin       0.080000      0.000000       0.000000          55.120000   \n25%      25.000000      0.000000       0.000000          77.245000   \n50%      45.000000      0.000000       0.000000          91.885000   \n75%      61.000000      0.000000       0.000000         114.090000   \nmax      82.000000      1.000000       1.000000         271.740000   \n\n               bmi       stroke  \ncount  4909.000000  5110.000000  \nmean     28.893237     0.048728  \nstd       7.854067     0.215320  \nmin      10.300000     0.000000  \n25%      23.500000     0.000000  \n50%      28.100000     0.000000  \n75%      33.100000     0.000000  \nmax      97.600000     1.000000  ",
      "text/html": "<div>\n<style scoped>\n    .dataframe tbody tr th:only-of-type {\n        vertical-align: middle;\n    }\n\n    .dataframe tbody tr th {\n        vertical-align: top;\n    }\n\n    .dataframe thead th {\n        text-align: right;\n    }\n</style>\n<table border=\"1\" class=\"dataframe\">\n  <thead>\n    <tr style=\"text-align: right;\">\n      <th></th>\n      <th>age</th>\n      <th>hypertension</th>\n      <th>heart_disease</th>\n      <th>avg_glucose_level</th>\n      <th>bmi</th>\n      <th>stroke</th>\n    </tr>\n  </thead>\n  <tbody>\n    <tr>\n      <th>count</th>\n      <td>5110.000000</td>\n      <td>5110.000000</td>\n      <td>5110.000000</td>\n      <td>5110.000000</td>\n      <td>4909.000000</td>\n      <td>5110.000000</td>\n    </tr>\n    <tr>\n      <th>mean</th>\n      <td>43.226614</td>\n      <td>0.097456</td>\n      <td>0.054012</td>\n      <td>106.147677</td>\n      <td>28.893237</td>\n      <td>0.048728</td>\n    </tr>\n    <tr>\n      <th>std</th>\n      <td>22.612647</td>\n      <td>0.296607</td>\n      <td>0.226063</td>\n      <td>45.283560</td>\n      <td>7.854067</td>\n      <td>0.215320</td>\n    </tr>\n    <tr>\n      <th>min</th>\n      <td>0.080000</td>\n      <td>0.000000</td>\n      <td>0.000000</td>\n      <td>55.120000</td>\n      <td>10.300000</td>\n      <td>0.000000</td>\n    </tr>\n    <tr>\n      <th>25%</th>\n      <td>25.000000</td>\n      <td>0.000000</td>\n      <td>0.000000</td>\n      <td>77.245000</td>\n      <td>23.500000</td>\n      <td>0.000000</td>\n    </tr>\n    <tr>\n      <th>50%</th>\n      <td>45.000000</td>\n      <td>0.000000</td>\n      <td>0.000000</td>\n      <td>91.885000</td>\n      <td>28.100000</td>\n      <td>0.000000</td>\n    </tr>\n    <tr>\n      <th>75%</th>\n      <td>61.000000</td>\n      <td>0.000000</td>\n      <td>0.000000</td>\n      <td>114.090000</td>\n      <td>33.100000</td>\n      <td>0.000000</td>\n    </tr>\n    <tr>\n      <th>max</th>\n      <td>82.000000</td>\n      <td>1.000000</td>\n      <td>1.000000</td>\n      <td>271.740000</td>\n      <td>97.600000</td>\n      <td>1.000000</td>\n    </tr>\n  </tbody>\n</table>\n</div>"
     },
     "execution_count": 4,
     "metadata": {},
     "output_type": "execute_result"
    }
   ],
   "source": [
    "df.describe()"
   ],
   "metadata": {
    "collapsed": false,
    "ExecuteTime": {
     "end_time": "2023-12-05T15:20:27.354426Z",
     "start_time": "2023-12-05T15:20:27.328976Z"
    }
   },
   "id": "293feddb0f38b3fa"
  },
  {
   "cell_type": "code",
   "execution_count": 7,
   "outputs": [
    {
     "data": {
      "text/plain": "gender                 0\nage                    0\nhypertension           0\nheart_disease          0\never_married           0\nwork_type              0\nResidence_type         0\navg_glucose_level      0\nbmi                  201\nsmoking_status         0\nstroke                 0\ndtype: int64"
     },
     "execution_count": 7,
     "metadata": {},
     "output_type": "execute_result"
    }
   ],
   "source": [
    "df.isna().sum()"
   ],
   "metadata": {
    "collapsed": false,
    "ExecuteTime": {
     "end_time": "2023-12-05T15:23:14.412409Z",
     "start_time": "2023-12-05T15:23:14.405825Z"
    }
   },
   "id": "8ef970d759f61343"
  },
  {
   "cell_type": "markdown",
   "source": [
    "## Data preprocessing"
   ],
   "metadata": {
    "collapsed": false
   },
   "id": "ea299403bc0dec61"
  },
  {
   "cell_type": "code",
   "execution_count": 12,
   "outputs": [
    {
     "data": {
      "text/plain": "gender               4861\nage                  4861\nhypertension         4861\nheart_disease        4861\never_married         4861\nwork_type            4861\nResidence_type       4861\navg_glucose_level    4861\nbmi                  4700\nsmoking_status       4861\nstroke               4861\ndtype: int64"
     },
     "execution_count": 12,
     "metadata": {},
     "output_type": "execute_result"
    }
   ],
   "source": [
    "df.query(\"stroke == 0\").count()"
   ],
   "metadata": {
    "collapsed": false,
    "ExecuteTime": {
     "end_time": "2023-12-05T15:26:13.060154Z",
     "start_time": "2023-12-05T15:26:13.043255Z"
    }
   },
   "id": "3c0c066505245105"
  },
  {
   "cell_type": "markdown",
   "source": [
    "### One-Hot encoding"
   ],
   "metadata": {
    "collapsed": false
   },
   "id": "a2086507b0295893"
  },
  {
   "cell_type": "code",
   "execution_count": 70,
   "outputs": [],
   "source": [
    "columns_to_onehot = ['gender', 'hypertension', 'heart_disease', 'ever_married', 'work_type', 'Residence_type', 'smoking_status']\n",
    "df_one_hot = pd.get_dummies(df[columns_to_onehot])\n",
    "df = df.drop(columns_to_onehot, axis=1)\n",
    "df = df.join(df_one_hot)"
   ],
   "metadata": {
    "collapsed": false,
    "ExecuteTime": {
     "end_time": "2023-12-05T16:44:32.507221Z",
     "start_time": "2023-12-05T16:44:32.496075Z"
    }
   },
   "id": "2f8ce48264e0c3c3"
  },
  {
   "cell_type": "code",
   "execution_count": 25,
   "outputs": [
    {
     "data": {
      "text/plain": "       age  avg_glucose_level   bmi  stroke  hypertension  heart_disease  \\\n0     67.0             228.69  36.6       1             0              1   \n1     61.0             202.21   NaN       1             0              0   \n2     80.0             105.92  32.5       1             0              1   \n3     49.0             171.23  34.4       1             0              0   \n4     79.0             174.12  24.0       1             1              0   \n...    ...                ...   ...     ...           ...            ...   \n5105  80.0              83.75   NaN       0             1              0   \n5106  81.0             125.20  40.0       0             0              0   \n5107  35.0              82.99  30.6       0             0              0   \n5108  51.0             166.29  25.6       0             0              0   \n5109  44.0              85.28  26.2       0             0              0   \n\n      gender_Female  gender_Male  gender_Other  ever_married_No  ...  \\\n0             False         True         False            False  ...   \n1              True        False         False            False  ...   \n2             False         True         False            False  ...   \n3              True        False         False            False  ...   \n4              True        False         False            False  ...   \n...             ...          ...           ...              ...  ...   \n5105           True        False         False            False  ...   \n5106           True        False         False            False  ...   \n5107           True        False         False            False  ...   \n5108          False         True         False            False  ...   \n5109           True        False         False            False  ...   \n\n      work_type_Never_worked  work_type_Private  work_type_Self-employed  \\\n0                      False               True                    False   \n1                      False              False                     True   \n2                      False               True                    False   \n3                      False               True                    False   \n4                      False              False                     True   \n...                      ...                ...                      ...   \n5105                   False               True                    False   \n5106                   False              False                     True   \n5107                   False              False                     True   \n5108                   False               True                    False   \n5109                   False              False                    False   \n\n      work_type_children  Residence_type_Rural  Residence_type_Urban  \\\n0                  False                 False                  True   \n1                  False                  True                 False   \n2                  False                  True                 False   \n3                  False                 False                  True   \n4                  False                  True                 False   \n...                  ...                   ...                   ...   \n5105               False                 False                  True   \n5106               False                 False                  True   \n5107               False                  True                 False   \n5108               False                  True                 False   \n5109               False                 False                  True   \n\n      smoking_status_Unknown  smoking_status_formerly smoked  \\\n0                      False                            True   \n1                      False                           False   \n2                      False                           False   \n3                      False                           False   \n4                      False                           False   \n...                      ...                             ...   \n5105                   False                           False   \n5106                   False                           False   \n5107                   False                           False   \n5108                   False                            True   \n5109                    True                           False   \n\n      smoking_status_never smoked  smoking_status_smokes  \n0                           False                  False  \n1                            True                  False  \n2                            True                  False  \n3                           False                   True  \n4                            True                  False  \n...                           ...                    ...  \n5105                         True                  False  \n5106                         True                  False  \n5107                         True                  False  \n5108                        False                  False  \n5109                        False                  False  \n\n[5110 rows x 22 columns]",
      "text/html": "<div>\n<style scoped>\n    .dataframe tbody tr th:only-of-type {\n        vertical-align: middle;\n    }\n\n    .dataframe tbody tr th {\n        vertical-align: top;\n    }\n\n    .dataframe thead th {\n        text-align: right;\n    }\n</style>\n<table border=\"1\" class=\"dataframe\">\n  <thead>\n    <tr style=\"text-align: right;\">\n      <th></th>\n      <th>age</th>\n      <th>avg_glucose_level</th>\n      <th>bmi</th>\n      <th>stroke</th>\n      <th>hypertension</th>\n      <th>heart_disease</th>\n      <th>gender_Female</th>\n      <th>gender_Male</th>\n      <th>gender_Other</th>\n      <th>ever_married_No</th>\n      <th>...</th>\n      <th>work_type_Never_worked</th>\n      <th>work_type_Private</th>\n      <th>work_type_Self-employed</th>\n      <th>work_type_children</th>\n      <th>Residence_type_Rural</th>\n      <th>Residence_type_Urban</th>\n      <th>smoking_status_Unknown</th>\n      <th>smoking_status_formerly smoked</th>\n      <th>smoking_status_never smoked</th>\n      <th>smoking_status_smokes</th>\n    </tr>\n  </thead>\n  <tbody>\n    <tr>\n      <th>0</th>\n      <td>67.0</td>\n      <td>228.69</td>\n      <td>36.6</td>\n      <td>1</td>\n      <td>0</td>\n      <td>1</td>\n      <td>False</td>\n      <td>True</td>\n      <td>False</td>\n      <td>False</td>\n      <td>...</td>\n      <td>False</td>\n      <td>True</td>\n      <td>False</td>\n      <td>False</td>\n      <td>False</td>\n      <td>True</td>\n      <td>False</td>\n      <td>True</td>\n      <td>False</td>\n      <td>False</td>\n    </tr>\n    <tr>\n      <th>1</th>\n      <td>61.0</td>\n      <td>202.21</td>\n      <td>NaN</td>\n      <td>1</td>\n      <td>0</td>\n      <td>0</td>\n      <td>True</td>\n      <td>False</td>\n      <td>False</td>\n      <td>False</td>\n      <td>...</td>\n      <td>False</td>\n      <td>False</td>\n      <td>True</td>\n      <td>False</td>\n      <td>True</td>\n      <td>False</td>\n      <td>False</td>\n      <td>False</td>\n      <td>True</td>\n      <td>False</td>\n    </tr>\n    <tr>\n      <th>2</th>\n      <td>80.0</td>\n      <td>105.92</td>\n      <td>32.5</td>\n      <td>1</td>\n      <td>0</td>\n      <td>1</td>\n      <td>False</td>\n      <td>True</td>\n      <td>False</td>\n      <td>False</td>\n      <td>...</td>\n      <td>False</td>\n      <td>True</td>\n      <td>False</td>\n      <td>False</td>\n      <td>True</td>\n      <td>False</td>\n      <td>False</td>\n      <td>False</td>\n      <td>True</td>\n      <td>False</td>\n    </tr>\n    <tr>\n      <th>3</th>\n      <td>49.0</td>\n      <td>171.23</td>\n      <td>34.4</td>\n      <td>1</td>\n      <td>0</td>\n      <td>0</td>\n      <td>True</td>\n      <td>False</td>\n      <td>False</td>\n      <td>False</td>\n      <td>...</td>\n      <td>False</td>\n      <td>True</td>\n      <td>False</td>\n      <td>False</td>\n      <td>False</td>\n      <td>True</td>\n      <td>False</td>\n      <td>False</td>\n      <td>False</td>\n      <td>True</td>\n    </tr>\n    <tr>\n      <th>4</th>\n      <td>79.0</td>\n      <td>174.12</td>\n      <td>24.0</td>\n      <td>1</td>\n      <td>1</td>\n      <td>0</td>\n      <td>True</td>\n      <td>False</td>\n      <td>False</td>\n      <td>False</td>\n      <td>...</td>\n      <td>False</td>\n      <td>False</td>\n      <td>True</td>\n      <td>False</td>\n      <td>True</td>\n      <td>False</td>\n      <td>False</td>\n      <td>False</td>\n      <td>True</td>\n      <td>False</td>\n    </tr>\n    <tr>\n      <th>...</th>\n      <td>...</td>\n      <td>...</td>\n      <td>...</td>\n      <td>...</td>\n      <td>...</td>\n      <td>...</td>\n      <td>...</td>\n      <td>...</td>\n      <td>...</td>\n      <td>...</td>\n      <td>...</td>\n      <td>...</td>\n      <td>...</td>\n      <td>...</td>\n      <td>...</td>\n      <td>...</td>\n      <td>...</td>\n      <td>...</td>\n      <td>...</td>\n      <td>...</td>\n      <td>...</td>\n    </tr>\n    <tr>\n      <th>5105</th>\n      <td>80.0</td>\n      <td>83.75</td>\n      <td>NaN</td>\n      <td>0</td>\n      <td>1</td>\n      <td>0</td>\n      <td>True</td>\n      <td>False</td>\n      <td>False</td>\n      <td>False</td>\n      <td>...</td>\n      <td>False</td>\n      <td>True</td>\n      <td>False</td>\n      <td>False</td>\n      <td>False</td>\n      <td>True</td>\n      <td>False</td>\n      <td>False</td>\n      <td>True</td>\n      <td>False</td>\n    </tr>\n    <tr>\n      <th>5106</th>\n      <td>81.0</td>\n      <td>125.20</td>\n      <td>40.0</td>\n      <td>0</td>\n      <td>0</td>\n      <td>0</td>\n      <td>True</td>\n      <td>False</td>\n      <td>False</td>\n      <td>False</td>\n      <td>...</td>\n      <td>False</td>\n      <td>False</td>\n      <td>True</td>\n      <td>False</td>\n      <td>False</td>\n      <td>True</td>\n      <td>False</td>\n      <td>False</td>\n      <td>True</td>\n      <td>False</td>\n    </tr>\n    <tr>\n      <th>5107</th>\n      <td>35.0</td>\n      <td>82.99</td>\n      <td>30.6</td>\n      <td>0</td>\n      <td>0</td>\n      <td>0</td>\n      <td>True</td>\n      <td>False</td>\n      <td>False</td>\n      <td>False</td>\n      <td>...</td>\n      <td>False</td>\n      <td>False</td>\n      <td>True</td>\n      <td>False</td>\n      <td>True</td>\n      <td>False</td>\n      <td>False</td>\n      <td>False</td>\n      <td>True</td>\n      <td>False</td>\n    </tr>\n    <tr>\n      <th>5108</th>\n      <td>51.0</td>\n      <td>166.29</td>\n      <td>25.6</td>\n      <td>0</td>\n      <td>0</td>\n      <td>0</td>\n      <td>False</td>\n      <td>True</td>\n      <td>False</td>\n      <td>False</td>\n      <td>...</td>\n      <td>False</td>\n      <td>True</td>\n      <td>False</td>\n      <td>False</td>\n      <td>True</td>\n      <td>False</td>\n      <td>False</td>\n      <td>True</td>\n      <td>False</td>\n      <td>False</td>\n    </tr>\n    <tr>\n      <th>5109</th>\n      <td>44.0</td>\n      <td>85.28</td>\n      <td>26.2</td>\n      <td>0</td>\n      <td>0</td>\n      <td>0</td>\n      <td>True</td>\n      <td>False</td>\n      <td>False</td>\n      <td>False</td>\n      <td>...</td>\n      <td>False</td>\n      <td>False</td>\n      <td>False</td>\n      <td>False</td>\n      <td>False</td>\n      <td>True</td>\n      <td>True</td>\n      <td>False</td>\n      <td>False</td>\n      <td>False</td>\n    </tr>\n  </tbody>\n</table>\n<p>5110 rows × 22 columns</p>\n</div>"
     },
     "execution_count": 25,
     "metadata": {},
     "output_type": "execute_result"
    }
   ],
   "source": [
    "df"
   ],
   "metadata": {
    "collapsed": false,
    "ExecuteTime": {
     "end_time": "2023-12-05T15:36:24.793431Z",
     "start_time": "2023-12-05T15:36:24.776870Z"
    }
   },
   "id": "bcaa6a6118075e5b"
  },
  {
   "cell_type": "markdown",
   "source": [
    "### Normalize data"
   ],
   "metadata": {
    "collapsed": false
   },
   "id": "38f685b2404793be"
  },
  {
   "cell_type": "code",
   "execution_count": 71,
   "outputs": [],
   "source": [
    "columns_to_normalize = ['age', 'avg_glucose_level', 'bmi']\n",
    "scaler = StandardScaler()\n",
    "df[columns_to_normalize] = scaler.fit_transform(df[columns_to_normalize])"
   ],
   "metadata": {
    "collapsed": false,
    "ExecuteTime": {
     "end_time": "2023-12-05T16:44:34.726276Z",
     "start_time": "2023-12-05T16:44:34.720425Z"
    }
   },
   "id": "6a0726e4cf61ef65"
  },
  {
   "cell_type": "markdown",
   "source": [
    "### Remove NaN rows"
   ],
   "metadata": {
    "collapsed": false
   },
   "id": "ce74d0168c37b16d"
  },
  {
   "cell_type": "code",
   "execution_count": 72,
   "outputs": [],
   "source": [
    "case = \"AVERAGE\"\n",
    "if case == \"REMOVE\":\n",
    "    df = df.dropna(subset=['bmi'])\n",
    "if case == \"AVERAGE\":\n",
    "    mean_stroke_1 = df[df['stroke'] == 1]['bmi'].dropna().mean()\n",
    "    mean_stroke_0 = df[df['stroke'] == 0]['bmi'].dropna().mean()\n",
    "    df.loc[df['stroke'] == 1, 'bmi'] = df[df['stroke'] == 1]['bmi'].fillna(mean_stroke_1)\n",
    "    df.loc[df['stroke'] == 0, 'bmi'] = df[df['stroke'] == 0]['bmi'].fillna(mean_stroke_0)"
   ],
   "metadata": {
    "collapsed": false,
    "ExecuteTime": {
     "end_time": "2023-12-05T16:44:38.331363Z",
     "start_time": "2023-12-05T16:44:38.322786Z"
    }
   },
   "id": "f735f371a00a69b4"
  },
  {
   "cell_type": "markdown",
   "source": [
    "## Features importance"
   ],
   "metadata": {
    "collapsed": false
   },
   "id": "4df10728452a169b"
  },
  {
   "cell_type": "code",
   "execution_count": 73,
   "outputs": [],
   "source": [
    "X = df.drop(columns=[\"stroke\"]).values\n",
    "y = df[\"stroke\"].values\n",
    "X_train, X_test, y_train, y_test = train_test_split(X, y, shuffle=True, random_state=42)"
   ],
   "metadata": {
    "collapsed": false,
    "ExecuteTime": {
     "end_time": "2023-12-05T16:44:45.081128Z",
     "start_time": "2023-12-05T16:44:45.067835Z"
    }
   },
   "id": "a90a664fc05d9f80"
  },
  {
   "cell_type": "code",
   "execution_count": 74,
   "outputs": [
    {
     "data": {
      "text/plain": "0.9366197183098591"
     },
     "execution_count": 74,
     "metadata": {},
     "output_type": "execute_result"
    }
   ],
   "source": [
    "pred = RandomForestClassifier(100, random_state=42)\n",
    "pred.fit(X_train, y_train)\n",
    "\n",
    "y_pred_test = pred.predict(X_test)\n",
    "accuracy_score(y_test, y_pred_test)"
   ],
   "metadata": {
    "collapsed": false,
    "ExecuteTime": {
     "end_time": "2023-12-05T16:44:46.398414Z",
     "start_time": "2023-12-05T16:44:46.050164Z"
    }
   },
   "id": "a2672c144d8ce5f9"
  },
  {
   "cell_type": "code",
   "execution_count": 75,
   "outputs": [
    {
     "data": {
      "text/plain": "array([[1197,    1],\n       [  80,    0]])"
     },
     "execution_count": 75,
     "metadata": {},
     "output_type": "execute_result"
    }
   ],
   "source": [
    "confusion_matrix(y_test, y_pred_test)"
   ],
   "metadata": {
    "collapsed": false,
    "ExecuteTime": {
     "end_time": "2023-12-05T16:44:50.327820Z",
     "start_time": "2023-12-05T16:44:50.321386Z"
    }
   },
   "id": "14ecd4e4a7997ff8"
  },
  {
   "cell_type": "code",
   "execution_count": 76,
   "outputs": [
    {
     "data": {
      "text/plain": "[('avg_glucose_level', 0.253510153888472),\n ('bmi', 0.23258234991079763),\n ('age', 0.23246658784226093),\n ('hypertension', 0.026203306908707022),\n ('heart_disease', 0.02496686543963964),\n ('smoking_status_never smoked', 0.02264569051749789),\n ('work_type_Private', 0.021186373978356234),\n ('Residence_type_Urban', 0.02110814140848908),\n ('Residence_type_Rural', 0.019594878800273573),\n ('smoking_status_formerly smoked', 0.01895719463350839),\n ('gender_Male', 0.0186542261380837),\n ('work_type_Self-employed', 0.018523020902273448),\n ('smoking_status_smokes', 0.01839953273005892),\n ('gender_Female', 0.017947160344298163),\n ('smoking_status_Unknown', 0.016274659523484874),\n ('work_type_Govt_job', 0.014376715637551675),\n ('ever_married_No', 0.010733819416841685),\n ('ever_married_Yes', 0.01070073559351673),\n ('work_type_children', 0.0011103979018837564),\n ('work_type_Never_worked', 5.818848400479053e-05),\n ('gender_Other', 0.0)]"
     },
     "execution_count": 76,
     "metadata": {},
     "output_type": "execute_result"
    }
   ],
   "source": [
    "feature_names = df.drop(columns=[\"stroke\"]).columns\n",
    "sorted(zip(feature_names, pred.feature_importances_), key=lambda x: x[1], reverse=True)"
   ],
   "metadata": {
    "collapsed": false,
    "ExecuteTime": {
     "end_time": "2023-12-05T16:44:53.405682Z",
     "start_time": "2023-12-05T16:44:53.387904Z"
    }
   },
   "id": "c8248a483d45c686"
  },
  {
   "cell_type": "code",
   "execution_count": null,
   "outputs": [],
   "source": [],
   "metadata": {
    "collapsed": false
   },
   "id": "3d4afc3758043fce"
  }
 ],
 "metadata": {
  "kernelspec": {
   "display_name": "Python 3",
   "language": "python",
   "name": "python3"
  },
  "language_info": {
   "codemirror_mode": {
    "name": "ipython",
    "version": 2
   },
   "file_extension": ".py",
   "mimetype": "text/x-python",
   "name": "python",
   "nbconvert_exporter": "python",
   "pygments_lexer": "ipython2",
   "version": "2.7.6"
  }
 },
 "nbformat": 4,
 "nbformat_minor": 5
}
